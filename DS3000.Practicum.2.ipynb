{
 "cells": [
  {
   "cell_type": "markdown",
   "metadata": {},
   "source": [
    "# DS 3000 - Practicum 2\n",
    "\n",
    "**Student Name**: Hwijoon Lee, Maya Karintholil, Sanya Mittal, and Shreyashi Kalakuntla\n",
    "\n",
    "**Date**: 2025-02-21\n",
    "\n",
    "\n",
    "### Submission Instructions\n",
    "Submit this `ipynb` file to canvas.\n",
    "\n",
    "The `ipynb` format stores outputs from the last time you ran the notebook.  (When you open a notebook it has the figures and outputs of the last time you ran it too).  To ensure that your submitted `ipynb` file represents your latest code, make sure to give a fresh run `Kernel > Restart & Run All` just before uploading the `ipynb` file to Canvas.\n",
    "\n",
    "### Academic Integrity\n",
    "\n",
    "**Writing your homework is an individual effort.**  You may discuss general python problems with other students but under no circumstances should you observe another student's code which was written for this assignment, from this year or past years.  Pop into office hours or DM us in MS Teams if you have a specific question about your work or if you would like another pair of eyes or talk through your code.\n",
    "\n",
    "Don't forget to cite websites which helped you solve a problem in a unique way.  You can do this in markdown near the code or with a simple one-line comment. You do not need to cite the official python documentation.\n",
    "\n",
    "**Documentation / style counts for credit**  Please refer to the Pep-8 style, to improve the readability and consistency of your Python code. For more information, read the following article [How to Write Beautiful Python Code With PEP 8](https://realpython.com/python-pep8/) or ask your TA's for tips.\n",
    "\n",
    "**NOTE:<span style='color:red'> Write python expressions to answer ALL questions below and ensure that you use the `print()` function to display the output.</span>** Each question should be answered in a new code cell. For example, your solution for question 1.1 should be in a different code cell from your solution for question 1.2."
   ]
  },
  {
   "cell_type": "markdown",
   "metadata": {},
   "source": [
    "## Question 1: \n",
    "\n",
    "In your own words, formulate the Data Science problem that you were given."
   ]
  },
  {
   "cell_type": "code",
   "execution_count": 1,
   "metadata": {},
   "outputs": [],
   "source": [
    "#Write your python code to answer question 1. You can add new cells below as needed."
   ]
  },
  {
   "cell_type": "markdown",
   "metadata": {},
   "source": [
    "## Question 2: \n",
    "Load the data using pandas and inspect it.\n",
    "\n",
    "Perform the initial inspection of the data, its shape, types, etc.\n",
    "Evaluate the dataset and perform at least three type of data preparation and justify the approach that is taken to prepare the data for analysis. Data prep can include, but is not limited to: handling missing values, data types, duplicates, etc. You will need to ensure that your data preparation addressed issues in at least 7 fields in the data.\n",
    "Prepare meaningful* summary statistics for 3 continuous variables and 3 categorical variables.\n",
    "Note: meaningful summary statistics explains the statistical summary of relevant fields in a coherent manner."
   ]
  },
  {
   "cell_type": "code",
   "execution_count": 4,
   "metadata": {},
   "outputs": [
    {
     "name": "stderr",
     "output_type": "stream",
     "text": [
      "/var/folders/dw/7lckm6l56sn70yq_dk59qxbr0000gn/T/ipykernel_6583/3777238389.py:3: DtypeWarning: Columns (18,21) have mixed types. Specify dtype option on import or set low_memory=False.\n",
      "  df = pd.read_csv('Bird_Strikes_1990_2023.csv')\n"
     ]
    },
    {
     "name": "stdout",
     "output_type": "stream",
     "text": [
      "Dataset Shape: (288810, 100)\n",
      "\n",
      "Dataset Info:\n",
      "<class 'pandas.core.frame.DataFrame'>\n",
      "RangeIndex: 288810 entries, 0 to 288809\n",
      "Data columns (total 100 columns):\n",
      " #   Column                 Non-Null Count   Dtype  \n",
      "---  ------                 --------------   -----  \n",
      " 0   INDEX_NR               288810 non-null  int64  \n",
      " 1   INCIDENT_DATE          288810 non-null  object \n",
      " 2   INCIDENT_MONTH         288810 non-null  int64  \n",
      " 3   INCIDENT_YEAR          288810 non-null  int64  \n",
      " 4   TIME                   163633 non-null  object \n",
      " 5   TIME_OF_DAY            166394 non-null  object \n",
      " 6   AIRPORT_ID             288804 non-null  object \n",
      " 7   AIRPORT                288810 non-null  object \n",
      " 8   LATITUDE               253309 non-null  float64\n",
      " 9   LONGITUDE              253308 non-null  float64\n",
      " 10  RUNWAY                 218852 non-null  object \n",
      " 11  STATE                  253309 non-null  object \n",
      " 12  FAAREGION              253309 non-null  object \n",
      " 13  LOCATION               33939 non-null   object \n",
      " 14  ENROUTE_STATE          5037 non-null    object \n",
      " 15  OPID                   288784 non-null  object \n",
      " 16  OPERATOR               288810 non-null  object \n",
      " 17  REG                    172543 non-null  object \n",
      " 18  FLT                    129249 non-null  object \n",
      " 19  AIRCRAFT               288810 non-null  object \n",
      " 20  AMA                    205475 non-null  object \n",
      " 21  AMO                    190159 non-null  object \n",
      " 22  EMA                    192151 non-null  float64\n",
      " 23  EMO                    186756 non-null  float64\n",
      " 24  AC_CLASS               206893 non-null  object \n",
      " 25  AC_MASS                206490 non-null  float64\n",
      " 26  TYPE_ENG               206044 non-null  object \n",
      " 27  NUM_ENGS               206259 non-null  float64\n",
      " 28  ENG_1_POS              205481 non-null  float64\n",
      " 29  ENG_2_POS              191612 non-null  float64\n",
      " 30  ENG_3_POS              13080 non-null   float64\n",
      " 31  ENG_4_POS              3290 non-null    float64\n",
      " 32  PHASE_OF_FLIGHT        177843 non-null  object \n",
      " 33  HEIGHT                 148807 non-null  float64\n",
      " 34  SPEED                  94237 non-null   float64\n",
      " 35  DISTANCE               188234 non-null  float64\n",
      " 36  SKY                    139382 non-null  object \n",
      " 37  PRECIPITATION          11175 non-null   object \n",
      " 38  AOS                    14196 non-null   float64\n",
      " 39  COST_REPAIRS           5040 non-null    object \n",
      " 40  COST_OTHER             4760 non-null    object \n",
      " 41  COST_REPAIRS_INFL_ADJ  5040 non-null    object \n",
      " 42  COST_OTHER_INFL_ADJ    4760 non-null    object \n",
      " 43  INGESTED_OTHER         288810 non-null  bool   \n",
      " 44  INDICATED_DAMAGE       288810 non-null  bool   \n",
      " 45  DAMAGE_LEVEL           187315 non-null  object \n",
      " 46  STR_RAD                288810 non-null  bool   \n",
      " 47  DAM_RAD                288810 non-null  bool   \n",
      " 48  STR_WINDSHLD           288810 non-null  bool   \n",
      " 49  DAM_WINDSHLD           288810 non-null  bool   \n",
      " 50  STR_NOSE               288810 non-null  bool   \n",
      " 51  DAM_NOSE               288810 non-null  bool   \n",
      " 52  STR_ENG1               288810 non-null  bool   \n",
      " 53  DAM_ENG1               288810 non-null  bool   \n",
      " 54  ING_ENG1               288810 non-null  bool   \n",
      " 55  STR_ENG2               288810 non-null  bool   \n",
      " 56  DAM_ENG2               288810 non-null  bool   \n",
      " 57  ING_ENG2               288810 non-null  bool   \n",
      " 58  STR_ENG3               288810 non-null  bool   \n",
      " 59  DAM_ENG3               288810 non-null  bool   \n",
      " 60  ING_ENG3               288810 non-null  bool   \n",
      " 61  STR_ENG4               288810 non-null  bool   \n",
      " 62  DAM_ENG4               288810 non-null  bool   \n",
      " 63  ING_ENG4               288810 non-null  bool   \n",
      " 64  STR_PROP               288810 non-null  bool   \n",
      " 65  DAM_PROP               288810 non-null  bool   \n",
      " 66  STR_WING_ROT           288810 non-null  bool   \n",
      " 67  DAM_WING_ROT           288810 non-null  bool   \n",
      " 68  STR_FUSE               288810 non-null  bool   \n",
      " 69  DAM_FUSE               288810 non-null  bool   \n",
      " 70  STR_LG                 288810 non-null  bool   \n",
      " 71  DAM_LG                 288810 non-null  bool   \n",
      " 72  STR_TAIL               288810 non-null  bool   \n",
      " 73  DAM_TAIL               288810 non-null  bool   \n",
      " 74  STR_LGHTS              288810 non-null  bool   \n",
      " 75  DAM_LGHTS              288810 non-null  bool   \n",
      " 76  STR_OTHER              288810 non-null  bool   \n",
      " 77  DAM_OTHER              288810 non-null  bool   \n",
      " 78  OTHER_SPECIFY          38462 non-null   object \n",
      " 79  EFFECT                 13718 non-null   object \n",
      " 80  EFFECT_OTHER           2221 non-null    object \n",
      " 81  BIRD_BAND_NUMBER       390 non-null     float64\n",
      " 82  SPECIES_ID             288806 non-null  object \n",
      " 83  SPECIES                288809 non-null  object \n",
      " 84  REMARKS                264305 non-null  object \n",
      " 85  REMAINS_COLLECTED      288810 non-null  bool   \n",
      " 86  REMAINS_SENT           288810 non-null  bool   \n",
      " 87  WARNED                 288810 non-null  object \n",
      " 88  NUM_SEEN               94773 non-null   object \n",
      " 89  NUM_STRUCK             288174 non-null  object \n",
      " 90  SIZE                   263538 non-null  object \n",
      " 91  NR_INJURIES            276 non-null     float64\n",
      " 92  NR_FATALITIES          24 non-null      float64\n",
      " 93  COMMENTS               218834 non-null  object \n",
      " 94  REPORTED_NAME          288810 non-null  object \n",
      " 95  REPORTED_TITLE         288810 non-null  object \n",
      " 96  SOURCE                 288810 non-null  object \n",
      " 97  PERSON                 267676 non-null  object \n",
      " 98  LUPDATE                288810 non-null  object \n",
      " 99  TRANSFER               288810 non-null  bool   \n",
      "dtypes: bool(37), float64(17), int64(3), object(43)\n",
      "memory usage: 149.0+ MB\n",
      "None\n"
     ]
    }
   ],
   "source": [
    "import pandas as pd\n",
    "\n",
    "df = pd.read_csv('Bird_Strikes_1990_2023.csv')\n",
    "\n",
    "# Display basic information about the dataset\n",
    "print(\"Dataset Shape:\", df.shape)\n",
    "print(\"\\nDataset Info:\")\n",
    "print(df.info())"
   ]
  },
  {
   "cell_type": "markdown",
   "metadata": {},
   "source": [
    "## Question 3: \n",
    "Perform an in-depth analysis by creating visualizations to understand the distribution and relationships within the data, while ensuring that your analysis and explanation of the results tell a story. It's important to select appropriate visualizations based on the type of data. Explain all results.\n",
    "\n",
    "Analyze the proportion of incidents that occur each year.\n",
    "Evaluate the distribution of bird strikes in each state and display the top 20 states.\n",
    "What is the most common bird species that are involved in bird strikes.\n",
    "Perform a comparative analysis of the annual aircraft damage for each phase of flight. Evaluate the results over the last 10 years to determine what patterns exist. Note: this requires a year over year analysis.\n",
    "Analyze the frequency of bird strike incidents that occur on a monthly basis over the last 10 years. Analyze the results to determine when these incidents are more prevalent.  This question requires you to drill deeper into the analysis to determine if the distribution has changed over the last 10 years. Note: this requires a year over year analysis.\n",
    "Perform ONE (1) additional analysis on the distribution. \n",
    "\n",
    "Ensure that you either : 1. perform a comparative analysis by evaluating 3 or more groups within the data or 2. perform a temporal analysis of the patterns over 10 or more years (this requires a year over year analysis of the patterns). Do not repeat any of the previous analysis."
   ]
  },
  {
   "cell_type": "code",
   "execution_count": null,
   "metadata": {},
   "outputs": [],
   "source": []
  },
  {
   "cell_type": "markdown",
   "metadata": {},
   "source": [
    "## Question 4: \n",
    "Perform pairwise analysis of select features and evaluate the significance of the pattern or trend. A suitable value for alpha is 5%. Explain all results.\n",
    "\n",
    "Create a scatterplot that shows the relationship between aircraft height and speed. Evaluate the correlation, the strength and the significance of the results.\n",
    "Visualize the distribution of the aircraft speed during: 1. the approach phase of flight and 2. the landing roll phase of flight. Perform a 2 sample t-test and evaluate if there is a statistical difference between the speed during these two flight phases. Tip: if the data is skewed, you will need to address this prior to the statistical analysis.\n",
    "Create a visualization of the aircraft damage grouped by phase of flight.\n",
    "Evaluate if the results are statistically significant. Ensure that you use the appropriate test.\n",
    "Perform ONE (1) additional statistical test.\n",
    "Explain what you are testing and the reason this information is useful.\n",
    "Visualize the data, state the hypothesis and explain if it is statistically significant."
   ]
  },
  {
   "cell_type": "code",
   "execution_count": null,
   "metadata": {},
   "outputs": [],
   "source": []
  },
  {
   "cell_type": "markdown",
   "metadata": {},
   "source": [
    "## Question 5: \n",
    "Explore a simple linear relationship* within the data and create a model to predict the occurrence of bird strikes in a given FAA region. Ensure that you explain all results.\n",
    "\n",
    "Extract all data for the AWP FAA Region and use a line chart to visualize the frequency of incidents between 1990 and 2015 inclusive.\n",
    "Using the extracted data above, create a simple linear regression model and predicts the incidents for 2016 and 2017.\n",
    "Display the r-squared and what this indicates about your model's ability to fit the data.\n",
    "Visualize the dataset from (1) and include the predicted results for 2016 and 2017.\n",
    "Compare and contrast the predictions for 2016 and 2017 with the actual values.\n",
    "Perform predictions for 2018 through to 2020. Explain what transpired when your model was used to predict this time period. Comment on the reliability of your model.\n",
    "*Tip: It is important to remember that you are creating a simple linear regression model, which is limited in features and does not include information about all factors that influence the frequency of bird strikes. Keep this in mind while framing your response and explanations"
   ]
  },
  {
   "cell_type": "code",
   "execution_count": null,
   "metadata": {},
   "outputs": [],
   "source": []
  },
  {
   "cell_type": "markdown",
   "metadata": {},
   "source": [
    "## Question 6: \n",
    "Summarize the overall analysis for questions 1 through 5 and share THREE (3) key findings."
   ]
  },
  {
   "cell_type": "code",
   "execution_count": null,
   "metadata": {},
   "outputs": [],
   "source": []
  },
  {
   "cell_type": "markdown",
   "metadata": {},
   "source": [
    "## Helpful resources \n",
    "Don't forget to cite websites which helped you solve a problem in a unique way.  You can do this in markdown near the code or with a simple one-line comment inside the code cell, or you can list them below. \n",
    "\n",
    "You do not need to cite the official python documentation.\n"
   ]
  }
 ],
 "metadata": {
  "kernelspec": {
   "display_name": "Python 3",
   "language": "python",
   "name": "python3"
  },
  "language_info": {
   "codemirror_mode": {
    "name": "ipython",
    "version": 3
   },
   "file_extension": ".py",
   "mimetype": "text/x-python",
   "name": "python",
   "nbconvert_exporter": "python",
   "pygments_lexer": "ipython3",
   "version": "3.13.1"
  }
 },
 "nbformat": 4,
 "nbformat_minor": 4
}
